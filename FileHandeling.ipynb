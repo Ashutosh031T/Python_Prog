{
 "cells": [
  {
   "cell_type": "code",
   "execution_count": 5,
   "id": "d4657edc-2b05-41a1-a80f-d611a66c1fa6",
   "metadata": {},
   "outputs": [
    {
     "name": "stdout",
     "output_type": "stream",
     "text": [
      "Overwriting myfile.txt\n"
     ]
    }
   ],
   "source": [
    "%%writefile myfile.txt\n",
    "Hello This is a text file\n",
    "I am Ashutosh Rout"
   ]
  },
  {
   "cell_type": "code",
   "execution_count": 6,
   "id": "05870bc0-ff92-4536-a727-d6c19d18c328",
   "metadata": {},
   "outputs": [],
   "source": [
    "# Open a file\n",
    "myfile = open('myfile.txt')"
   ]
  },
  {
   "cell_type": "code",
   "execution_count": 7,
   "id": "0d740585-fb33-4d5e-ad20-8d041ab7058a",
   "metadata": {},
   "outputs": [
    {
     "data": {
      "text/plain": [
       "'Hello This is a text file\\nI am Ashutosh Rout\\n'"
      ]
     },
     "execution_count": 7,
     "metadata": {},
     "output_type": "execute_result"
    }
   ],
   "source": [
    "# Read the file content\n",
    "myfile.read()"
   ]
  },
  {
   "cell_type": "code",
   "execution_count": 8,
   "id": "4ccb011f-b814-4c85-818c-da6f36a675e5",
   "metadata": {},
   "outputs": [
    {
     "data": {
      "text/plain": [
       "''"
      ]
     },
     "execution_count": 8,
     "metadata": {},
     "output_type": "execute_result"
    }
   ],
   "source": [
    "# The cursor is at end. If we try to again read the file then it will show empty string\n",
    "myfile.read()"
   ]
  },
  {
   "cell_type": "code",
   "execution_count": 9,
   "id": "2fb49eb1-c197-43ac-9c2f-65960f1e35d8",
   "metadata": {},
   "outputs": [
    {
     "data": {
      "text/plain": [
       "0"
      ]
     },
     "execution_count": 9,
     "metadata": {},
     "output_type": "execute_result"
    }
   ],
   "source": [
    "# Move the crusor to the beginning \n",
    "myfile.seek(0)"
   ]
  },
  {
   "cell_type": "code",
   "execution_count": 10,
   "id": "670c0a3f-f67e-467a-9a48-07dc545a0b95",
   "metadata": {},
   "outputs": [],
   "source": [
    "contents = myfile.read()"
   ]
  },
  {
   "cell_type": "code",
   "execution_count": 11,
   "id": "98561a73-6c3b-4d17-a528-8c1cbc3ff950",
   "metadata": {},
   "outputs": [
    {
     "data": {
      "text/plain": [
       "''"
      ]
     },
     "execution_count": 11,
     "metadata": {},
     "output_type": "execute_result"
    }
   ],
   "source": [
    "myfile.read()"
   ]
  },
  {
   "cell_type": "code",
   "execution_count": 12,
   "id": "8f8bab99-0035-412b-a163-0679567e1439",
   "metadata": {},
   "outputs": [
    {
     "data": {
      "text/plain": [
       "0"
      ]
     },
     "execution_count": 12,
     "metadata": {},
     "output_type": "execute_result"
    }
   ],
   "source": [
    "myfile.seek(0)"
   ]
  },
  {
   "cell_type": "code",
   "execution_count": 14,
   "id": "883c8c5b-fdfe-433d-af6f-d02d3ecca349",
   "metadata": {},
   "outputs": [
    {
     "name": "stdout",
     "output_type": "stream",
     "text": [
      "Hello This is a text file\n",
      "I am Ashutosh Rout\n",
      "\n"
     ]
    }
   ],
   "source": [
    "with open('myfile.txt',mode = 'r') as f:\n",
    "    content = f.read()\n",
    "    print(content)"
   ]
  },
  {
   "cell_type": "code",
   "execution_count": 15,
   "id": "cb93865a-996b-4650-9314-972c2db9c44f",
   "metadata": {},
   "outputs": [
    {
     "data": {
      "text/plain": [
       "['Hello This is a text file\\n', 'I am Ashutosh Rout\\n']"
      ]
     },
     "execution_count": 15,
     "metadata": {},
     "output_type": "execute_result"
    }
   ],
   "source": [
    "myfile.readlines()"
   ]
  },
  {
   "cell_type": "code",
   "execution_count": 16,
   "id": "07776a5a-84fb-4bf5-9d5d-8657ea896f67",
   "metadata": {},
   "outputs": [],
   "source": [
    "with open('Hello.txt','w') as f:\n",
    "    f.write('Hello Python!')"
   ]
  },
  {
   "cell_type": "code",
   "execution_count": null,
   "id": "c9a8367b-1e9d-4321-aa8c-64882b75eb92",
   "metadata": {},
   "outputs": [],
   "source": []
  }
 ],
 "metadata": {
  "kernelspec": {
   "display_name": "Python 3 (ipykernel)",
   "language": "python",
   "name": "python3"
  },
  "language_info": {
   "codemirror_mode": {
    "name": "ipython",
    "version": 3
   },
   "file_extension": ".py",
   "mimetype": "text/x-python",
   "name": "python",
   "nbconvert_exporter": "python",
   "pygments_lexer": "ipython3",
   "version": "3.13.1"
  }
 },
 "nbformat": 4,
 "nbformat_minor": 5
}
