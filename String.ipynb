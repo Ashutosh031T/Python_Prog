{
 "cells": [
  {
   "cell_type": "code",
   "execution_count": 2,
   "id": "1476b534-d3b9-46f3-b4ff-33c5075cc1f9",
   "metadata": {},
   "outputs": [
    {
     "name": "stdout",
     "output_type": "stream",
     "text": [
      "Hello World\n"
     ]
    }
   ],
   "source": [
    "print(\"Hello {}\".format('World'))"
   ]
  },
  {
   "cell_type": "code",
   "execution_count": 3,
   "id": "6b11c38f-3a45-4b60-9db6-52fbb09c1a05",
   "metadata": {},
   "outputs": [
    {
     "name": "stdout",
     "output_type": "stream",
     "text": [
      "The fox brown quick\n"
     ]
    }
   ],
   "source": [
    "print('The {} {} {}'.format('fox','brown','quick'))"
   ]
  },
  {
   "cell_type": "code",
   "execution_count": 4,
   "id": "71fde3a3-2861-4972-96cf-6ee71218f437",
   "metadata": {},
   "outputs": [
    {
     "name": "stdout",
     "output_type": "stream",
     "text": [
      "The quick brown fox\n"
     ]
    }
   ],
   "source": [
    "print('The {2} {1} {0}'.format('fox','brown','quick'))"
   ]
  },
  {
   "cell_type": "code",
   "execution_count": 5,
   "id": "be565a50-6d19-4ddf-8362-b796966a0feb",
   "metadata": {},
   "outputs": [
    {
     "name": "stdout",
     "output_type": "stream",
     "text": [
      "The quick brown fox\n"
     ]
    }
   ],
   "source": [
    "print('The {q} {b} {f}'.format(f='fox',b='brown', q='quick'))"
   ]
  },
  {
   "cell_type": "code",
   "execution_count": 9,
   "id": "d0bb520b-ef08-40e2-a620-f05db3a59941",
   "metadata": {},
   "outputs": [
    {
     "name": "stdout",
     "output_type": "stream",
     "text": [
      "The result is 1.4285714285714286\n"
     ]
    }
   ],
   "source": [
    "result = 10 / 7\n",
    "print('The result is {}'.format(result))"
   ]
  },
  {
   "cell_type": "code",
   "execution_count": 10,
   "id": "e5add477-0594-42f2-be60-82713b1f2200",
   "metadata": {},
   "outputs": [
    {
     "name": "stdout",
     "output_type": "stream",
     "text": [
      "The result is 1.4285714285714286\n"
     ]
    }
   ],
   "source": [
    "result = 10 / 7\n",
    "print('The result is {r}'.format(r=result))"
   ]
  },
  {
   "cell_type": "code",
   "execution_count": null,
   "id": "c48ea1be-3154-4d8c-91b1-d9075c125497",
   "metadata": {},
   "outputs": [],
   "source": []
  },
  {
   "cell_type": "code",
   "execution_count": null,
   "id": "b5ca12e4-f61a-4ffc-8f87-a26b7cfe4b76",
   "metadata": {},
   "outputs": [],
   "source": []
  },
  {
   "cell_type": "markdown",
   "id": "41e7c0f4-6466-4cc8-afe8-cd084fa84ea9",
   "metadata": {},
   "source": [
    "Floating Formatting follows \"Value:Width.Precision f\"\n",
    "eg:"
   ]
  },
  {
   "cell_type": "code",
   "execution_count": 17,
   "id": "53e60768-212b-424a-9668-e4dc35e5c7cc",
   "metadata": {},
   "outputs": [],
   "source": [
    "n = 124521/6"
   ]
  },
  {
   "cell_type": "code",
   "execution_count": 18,
   "id": "259e0218-f046-4e49-91c7-1628f427b2cd",
   "metadata": {},
   "outputs": [
    {
     "name": "stdout",
     "output_type": "stream",
     "text": [
      "The value of n is 20753.500\n"
     ]
    }
   ],
   "source": [
    "print('The value of n is {r:1.3f}'.format(r=n))"
   ]
  },
  {
   "cell_type": "code",
   "execution_count": 19,
   "id": "4ca9ca12-9772-437a-b668-5494aaf1ee55",
   "metadata": {},
   "outputs": [
    {
     "name": "stdout",
     "output_type": "stream",
     "text": [
      "The value o n is 20753.5\n"
     ]
    }
   ],
   "source": [
    "print(f\"The value o n is {n}\")"
   ]
  },
  {
   "cell_type": "code",
   "execution_count": 20,
   "id": "7e939327-9525-437c-8871-5bcb4215158f",
   "metadata": {},
   "outputs": [
    {
     "name": "stdout",
     "output_type": "stream",
     "text": [
      "My name is Ashutosh\n"
     ]
    }
   ],
   "source": [
    "print(\"My name is %s\" %\"Ashutosh\")"
   ]
  },
  {
   "cell_type": "code",
   "execution_count": null,
   "id": "f86e6a99-8861-4cc1-ab51-22f6c9a26518",
   "metadata": {},
   "outputs": [],
   "source": []
  }
 ],
 "metadata": {
  "kernelspec": {
   "display_name": "Python 3 (ipykernel)",
   "language": "python",
   "name": "python3"
  },
  "language_info": {
   "codemirror_mode": {
    "name": "ipython",
    "version": 3
   },
   "file_extension": ".py",
   "mimetype": "text/x-python",
   "name": "python",
   "nbconvert_exporter": "python",
   "pygments_lexer": "ipython3",
   "version": "3.13.1"
  }
 },
 "nbformat": 4,
 "nbformat_minor": 5
}
