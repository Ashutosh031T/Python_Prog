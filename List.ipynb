{
 "cells": [
  {
   "cell_type": "markdown",
   "id": "0dd12f36-b332-4979-915a-a3cb35eae704",
   "metadata": {},
   "source": [
    "List Concatenation\n"
   ]
  },
  {
   "cell_type": "code",
   "execution_count": 1,
   "id": "8b4a2a2e-6ed7-4e24-9000-75b710658e96",
   "metadata": {},
   "outputs": [],
   "source": [
    "my_list1 = [1,2,3,4]\n",
    "my_list2 = [6,7,8,9]\n",
    "new_list = my_list1 + my_list2\n"
   ]
  },
  {
   "cell_type": "code",
   "execution_count": 2,
   "id": "bc37a72b-d613-4a32-a52d-fc936228079c",
   "metadata": {},
   "outputs": [
    {
     "data": {
      "text/plain": [
       "[1, 2, 3, 4, 6, 7, 8, 9]"
      ]
     },
     "execution_count": 2,
     "metadata": {},
     "output_type": "execute_result"
    }
   ],
   "source": [
    "new_list"
   ]
  },
  {
   "cell_type": "code",
   "execution_count": 3,
   "id": "17d254aa-d5c4-4032-9572-aadb9cac0eaa",
   "metadata": {},
   "outputs": [],
   "source": [
    "new_list.append(10)\n",
    "# list_Object.append()"
   ]
  },
  {
   "cell_type": "code",
   "execution_count": 4,
   "id": "26c29bd1-fdbe-448a-a485-d2f054db07f9",
   "metadata": {},
   "outputs": [
    {
     "data": {
      "text/plain": [
       "[1, 2, 3, 4, 6, 7, 8, 9, 10]"
      ]
     },
     "execution_count": 4,
     "metadata": {},
     "output_type": "execute_result"
    }
   ],
   "source": [
    "new_list"
   ]
  },
  {
   "cell_type": "code",
   "execution_count": 5,
   "id": "db4a322c-9c8e-4da5-97aa-472ad273152e",
   "metadata": {},
   "outputs": [
    {
     "data": {
      "text/plain": [
       "10"
      ]
     },
     "execution_count": 5,
     "metadata": {},
     "output_type": "execute_result"
    }
   ],
   "source": [
    "new_list.pop()"
   ]
  },
  {
   "cell_type": "code",
   "execution_count": 6,
   "id": "079344a5-0491-463a-b9c7-54c3733eace0",
   "metadata": {},
   "outputs": [
    {
     "data": {
      "text/plain": [
       "[1, 2, 3, 4, 6, 7, 8, 9]"
      ]
     },
     "execution_count": 6,
     "metadata": {},
     "output_type": "execute_result"
    }
   ],
   "source": [
    "new_list"
   ]
  },
  {
   "cell_type": "code",
   "execution_count": 7,
   "id": "4a153866-8a79-4ef6-8e76-b2c311d9769b",
   "metadata": {},
   "outputs": [
    {
     "data": {
      "text/plain": [
       "[1, 2, 3, 4, 5, 6, 7, 8, 9]"
      ]
     },
     "execution_count": 7,
     "metadata": {},
     "output_type": "execute_result"
    }
   ],
   "source": [
    "new_list.insert(4,5)\n",
    "new_list"
   ]
  },
  {
   "cell_type": "code",
   "execution_count": null,
   "id": "29750b5e-b1b8-4d0d-a38c-83b6510647b7",
   "metadata": {},
   "outputs": [],
   "source": [
    "new_list.sort()"
   ]
  }
 ],
 "metadata": {
  "kernelspec": {
   "display_name": "Python 3 (ipykernel)",
   "language": "python",
   "name": "python3"
  },
  "language_info": {
   "codemirror_mode": {
    "name": "ipython",
    "version": 3
   },
   "file_extension": ".py",
   "mimetype": "text/x-python",
   "name": "python",
   "nbconvert_exporter": "python",
   "pygments_lexer": "ipython3",
   "version": "3.13.1"
  }
 },
 "nbformat": 4,
 "nbformat_minor": 5
}
