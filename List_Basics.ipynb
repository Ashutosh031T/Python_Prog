{
 "cells": [
  {
   "cell_type": "code",
   "execution_count": 1,
   "id": "26915c51-87ce-49f0-bd79-16f35d4ccec1",
   "metadata": {},
   "outputs": [
    {
     "name": "stdout",
     "output_type": "stream",
     "text": [
      "[7, 8, 5, 3, 2]\n"
     ]
    }
   ],
   "source": [
    "list1 = [2,3,5,8,7]\n",
    "# Reversing list [::-1]\n",
    "print(list1[::-1])"
   ]
  },
  {
   "cell_type": "code",
   "execution_count": 3,
   "id": "0a06549d-7284-4136-8d41-ebfb2ed68145",
   "metadata": {},
   "outputs": [
    {
     "name": "stdout",
     "output_type": "stream",
     "text": [
      "[1, 2, 3, 4]\n"
     ]
    }
   ],
   "source": [
    "#append() - appends/inserts element to the end of the list\n",
    "my_list = [1, 2, 3]\n",
    "my_list.append(4)\n",
    "print(my_list)  "
   ]
  },
  {
   "cell_type": "code",
   "execution_count": 4,
   "id": "a3e33dfe-ff33-4802-afd4-d1cdd8b7903c",
   "metadata": {},
   "outputs": [
    {
     "name": "stdout",
     "output_type": "stream",
     "text": [
      "[1, 2, 3, 4, 5, 6]\n",
      "********\n",
      "3\n"
     ]
    }
   ],
   "source": [
    "#pop() - Remove and return an element at a given index (default is the last)\n",
    "my_list2 = [1, 2, 3, 4, 5, 6, 7]\n",
    "# remove form end\n",
    "my_list2.pop()\n",
    "print(my_list2)\n",
    "print('********')\n",
    "# at particular index\n",
    "print(my_list2.pop(2))"
   ]
  },
  {
   "cell_type": "code",
   "execution_count": 5,
   "id": "911f0740-863b-4a27-b899-18f57d1010fb",
   "metadata": {},
   "outputs": [
    {
     "name": "stdout",
     "output_type": "stream",
     "text": [
      "[1, 2, 3, 4]\n"
     ]
    }
   ],
   "source": [
    "# insert(index,element) Insert an element at a specific position\n",
    "my_list = [1, 2, 4]\n",
    "my_list.insert(2, 3)  # Insert 3 at index 2\n",
    "print(my_list)  # Output: [1, 2, 3, 4]"
   ]
  },
  {
   "cell_type": "code",
   "execution_count": 6,
   "id": "817ea1e2-c034-4b28-b589-27806cb7d400",
   "metadata": {},
   "outputs": [
    {
     "name": "stdout",
     "output_type": "stream",
     "text": [
      "[1, 3, 4, 2]\n"
     ]
    }
   ],
   "source": [
    "#  remove() – Remove the first occurrence of an element\n",
    "my_list = [1, 2, 3, 4, 2]\n",
    "my_list.remove(2)  # Removes the first occurrence of 2\n",
    "print(my_list)  # Output: [1, 3, 4, 2]"
   ]
  },
  {
   "cell_type": "code",
   "execution_count": 12,
   "id": "c21105f3-026c-4026-ba57-3dfee49679b8",
   "metadata": {},
   "outputs": [
    {
     "name": "stdout",
     "output_type": "stream",
     "text": [
      "[123, 'xyz', 'tommy', 'abc', 123, 'xyz', 'tommy', 'abc']\n",
      "[123, 'xyz', 'tommy', 'abc', 2009, 'bcoza']\n",
      "[123, 'xyz', 'tommy', 'abc']\n"
     ]
    }
   ],
   "source": [
    "# Extend List\n",
    "alist = [123,'xyz', 'tommy', 'abc']\n",
    "blist = [2009, 'bcoza']\n",
    "print(alist*2)\n",
    "print(alist + blist)\n",
    "print(alist)"
   ]
  },
  {
   "cell_type": "code",
   "execution_count": 8,
   "id": "15ac7177-391f-4df4-9d61-d178b8528305",
   "metadata": {},
   "outputs": [
    {
     "name": "stdout",
     "output_type": "stream",
     "text": [
      "[1, 2, 3, 4, 5, 6]\n"
     ]
    }
   ],
   "source": [
    "# extend() – Extend the list by adding elements from another list\n",
    "list1 = [1, 2, 3]\n",
    "list2 = [4, 5, 6]\n",
    "list1.extend(list2) # => list1 = list1 + list2\n",
    "print(list1)  # Output: [1, 2, 3, 4, 5, 6]  \n"
   ]
  },
  {
   "cell_type": "code",
   "execution_count": 13,
   "id": "51ea31b9-8f4d-4567-aa75-3d98028f3767",
   "metadata": {},
   "outputs": [
    {
     "name": "stdout",
     "output_type": "stream",
     "text": [
      "[123, 'xyz', 'tommy', 'abc', [2009, 'bcoza']]\n"
     ]
    }
   ],
   "source": [
    "# list1 and list2 append\n",
    "alist.append(blist)\n",
    "print(alist)"
   ]
  },
  {
   "cell_type": "code",
   "execution_count": 18,
   "id": "8117c3c4-2170-499f-a869-bad376334c0c",
   "metadata": {},
   "outputs": [
    {
     "name": "stdout",
     "output_type": "stream",
     "text": [
      "3\n"
     ]
    }
   ],
   "source": [
    "# count() – Count occurrences of an element in the list\n",
    "my_list1 = [1, 2, 2, 3, 4, 2]\n",
    "count = my_list1.count(2)\n",
    "print(count)  # Output: 3"
   ]
  },
  {
   "cell_type": "code",
   "execution_count": 20,
   "id": "b24ce339-a624-4dd8-8cb4-f382e9546b1c",
   "metadata": {},
   "outputs": [
    {
     "name": "stdout",
     "output_type": "stream",
     "text": [
      "[1, 2, 4, 5, 8]\n",
      "[8, 5, 4, 2, 1]\n"
     ]
    }
   ],
   "source": [
    "# sort() – Sort the list in ascending order (or descending if reverse=True)\n",
    "my_list2 = [4, 2, 8, 1, 5]\n",
    "my_list2.sort()\n",
    "print(my_list2)  # Output: [1, 2, 4, 5, 8]\n",
    "\n",
    "# Descending order\n",
    "my_list2 = [4, 2, 8, 1, 5]\n",
    "my_list2.sort(reverse=True)\n",
    "print(my_list2)  # Output: [8, 5, 4, 2, 1]"
   ]
  },
  {
   "cell_type": "markdown",
   "id": "4266a8a6-4956-4cad-9ce0-994309006c17",
   "metadata": {},
   "source": [
    "**__sorted(list)__** \n",
    "\n",
    "___________________\n",
    "The sorted() method in Python is used to sort iterable objects like lists, tuples, or strings,\n",
    "and it returns a new sorted list without modifying the original object.\n",
    "sorted(iterable, key=None, reverse=False)"
   ]
  },
  {
   "cell_type": "code",
   "execution_count": 3,
   "id": "5b419f98-fdbe-4ce0-b1b9-50cc1d850650",
   "metadata": {},
   "outputs": [
    {
     "name": "stdout",
     "output_type": "stream",
     "text": [
      "[1, 2, 5, 7, 9]\n"
     ]
    }
   ],
   "source": [
    "# 1. Sorting a list of numbers (default ascending order)\n",
    "numbers = [5, 2, 9, 1, 7]\n",
    "sorted_numbers = sorted(numbers)\n",
    "print(sorted_numbers)  # Output: [1, 2, 5, 7, 9]"
   ]
  },
  {
   "cell_type": "code",
   "execution_count": 4,
   "id": "f12f553a-f5d5-42e2-9f85-5ad5f7a9d2f6",
   "metadata": {},
   "outputs": [
    {
     "name": "stdout",
     "output_type": "stream",
     "text": [
      "[9, 7, 5, 2, 1]\n"
     ]
    }
   ],
   "source": [
    "# Sorting in descending order (reverse=True)\n",
    "numbers = [5, 2, 9, 1, 7]\n",
    "sorted_numbers = sorted(numbers, reverse=True)\n",
    "print(sorted_numbers)  # Output: [9, 7, 5, 2, 1]"
   ]
  },
  {
   "cell_type": "code",
   "execution_count": 5,
   "id": "cbd14516-bd1b-471f-bee1-d2cf0126583e",
   "metadata": {},
   "outputs": [
    {
     "name": "stdout",
     "output_type": "stream",
     "text": [
      "['apple', 'banana', 'cherry', 'grape']\n"
     ]
    }
   ],
   "source": [
    "# Sorting a list of strings alphabetically\n",
    "words = [\"apple\", \"banana\", \"grape\", \"cherry\"]\n",
    "sorted_words = sorted(words)\n",
    "print(sorted_words)  # Output: ['apple', 'banana', 'cherry', 'grape']"
   ]
  },
  {
   "cell_type": "code",
   "execution_count": 6,
   "id": "95bb6566-2c23-46b6-9162-59add7be15f3",
   "metadata": {},
   "outputs": [
    {
     "name": "stdout",
     "output_type": "stream",
     "text": [
      "[653, 676, 756, 'xyz', 'abc', 87]\n"
     ]
    }
   ],
   "source": [
    "# List Concatenation\n",
    "list1 = [653,676,756]\n",
    "list2 = ['xyz', 'abc', 87]\n",
    "new_list = list1 + list2\n",
    "print(new_list)"
   ]
  },
  {
   "cell_type": "code",
   "execution_count": 7,
   "id": "ceda092e-c74c-451b-a8f2-f327824a8957",
   "metadata": {},
   "outputs": [
    {
     "name": "stdout",
     "output_type": "stream",
     "text": [
      "Changed\n"
     ]
    }
   ],
   "source": [
    "print('Changed')"
   ]
  },
  {
   "cell_type": "code",
   "execution_count": null,
   "id": "fae74c98-9f68-402f-bd12-ce534e4e0fc3",
   "metadata": {},
   "outputs": [],
   "source": []
  }
 ],
 "metadata": {
  "kernelspec": {
   "display_name": "Python 3 (ipykernel)",
   "language": "python",
   "name": "python3"
  },
  "language_info": {
   "codemirror_mode": {
    "name": "ipython",
    "version": 3
   },
   "file_extension": ".py",
   "mimetype": "text/x-python",
   "name": "python",
   "nbconvert_exporter": "python",
   "pygments_lexer": "ipython3",
   "version": "3.13.1"
  }
 },
 "nbformat": 4,
 "nbformat_minor": 5
}
